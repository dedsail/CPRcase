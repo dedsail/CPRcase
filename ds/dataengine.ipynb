{
 "cells": [
  {
   "cell_type": "code",
   "execution_count": 13,
   "metadata": {},
   "outputs": [
    {
     "name": "stderr",
     "output_type": "stream",
     "text": [
      "ERROR: Could not open requirements file: [Errno 2] No such file or directory: 'requirements.txt'\n"
     ]
    },
    {
     "name": "stdout",
     "output_type": "stream",
     "text": [
      "Defaulting to user installation because normal site-packages is not writeable\n",
      "placeholder\n"
     ]
    },
    {
     "name": "stderr",
     "output_type": "stream",
     "text": [
      "Device set to use cpu\n"
     ]
    }
   ],
   "source": [
    "%run ./../template.ipynb"
   ]
  },
  {
   "cell_type": "markdown",
   "metadata": {},
   "source": [
    "test imports"
   ]
  },
  {
   "cell_type": "code",
   "execution_count": null,
   "metadata": {},
   "outputs": [],
   "source": [
    "plt.plot([1,2,3],[4,5,6])\n",
    "plt.show()"
   ]
  },
  {
   "cell_type": "markdown",
   "metadata": {},
   "source": [
    "download"
   ]
  },
  {
   "cell_type": "code",
   "execution_count": 14,
   "metadata": {},
   "outputs": [
    {
     "name": "stdout",
     "output_type": "stream",
     "text": [
      "Warning: Looks like you're using an outdated `kagglehub` version (installed: 0.3.7), please consider upgrading to the latest version (0.3.8).\n",
      "Path to dataset files: C:\\Users\\Денис\\.cache\\kagglehub\\datasets\\yudhaislamisulistya\\plants-type-datasets\\versions\\16\n"
     ]
    }
   ],
   "source": [
    "import kagglehub\n",
    "\n",
    "# Download latest version\n",
    "path = kagglehub.dataset_download(\"yudhaislamisulistya/plants-type-datasets\")\n",
    "\n",
    "print(\"Path to dataset files:\", path)"
   ]
  },
  {
   "cell_type": "code",
   "execution_count": 15,
   "metadata": {},
   "outputs": [
    {
     "data": {
      "text/plain": [
       "'C:\\\\Users\\\\Денис\\\\.cache\\\\kagglehub\\\\datasets\\\\yudhaislamisulistya\\\\plants-type-datasets\\\\versions\\\\16'"
      ]
     },
     "execution_count": 15,
     "metadata": {},
     "output_type": "execute_result"
    }
   ],
   "source": [
    "path"
   ]
  },
  {
   "cell_type": "code",
   "execution_count": 16,
   "metadata": {},
   "outputs": [
    {
     "data": {
      "text/plain": [
       "'./data'"
      ]
     },
     "execution_count": 16,
     "metadata": {},
     "output_type": "execute_result"
    }
   ],
   "source": [
    "cfg['ml']['data_folder']\n"
   ]
  },
  {
   "cell_type": "code",
   "execution_count": 17,
   "metadata": {},
   "outputs": [],
   "source": [
    "data_path = cfg['ml']['data_folder']"
   ]
  },
  {
   "cell_type": "code",
   "execution_count": 18,
   "metadata": {},
   "outputs": [
    {
     "name": "stdout",
     "output_type": "stream",
     "text": [
      "Source Path: C:\\Users\\Денис\\.cache\\kagglehub\\datasets\\yudhaislamisulistya\\plants-type-datasets\\versions\\16\n",
      "Destination Path: ./data\n"
     ]
    }
   ],
   "source": [
    "print(f\"Source Path: {path}\")\n",
    "print(f\"Destination Path: {data_path}\")\n"
   ]
  },
  {
   "cell_type": "code",
   "execution_count": 19,
   "metadata": {},
   "outputs": [
    {
     "data": {
      "text/plain": [
       "1"
      ]
     },
     "execution_count": 19,
     "metadata": {},
     "output_type": "execute_result"
    }
   ],
   "source": [
    "os.system(f\"mv {path} {data_path}\")"
   ]
  },
  {
   "cell_type": "code",
   "execution_count": 20,
   "metadata": {},
   "outputs": [
    {
     "data": {
      "text/plain": [
       "'C:\\\\Users\\\\Денис\\\\.cache\\\\kagglehub\\\\datasets\\\\yudhaislamisulistya\\\\plants-type-datasets\\\\versions\\\\16'"
      ]
     },
     "execution_count": 20,
     "metadata": {},
     "output_type": "execute_result"
    }
   ],
   "source": [
    "path"
   ]
  },
  {
   "cell_type": "code",
   "execution_count": 23,
   "metadata": {},
   "outputs": [
    {
     "name": "stdout",
     "output_type": "stream",
     "text": [
      "Moved:split_ttv_dataset_type_of_plants\n"
     ]
    }
   ],
   "source": [
    "import os\n",
    "import shutil\n",
    "\n",
    "# Создаем папку, если её нет\n",
    "os.makedirs(data_path, exist_ok=True)\n",
    "\n",
    "# Перебираем файлы в исходной директории\n",
    "for file in os.listdir(path):\n",
    "    full_file_path = os.path.join(path, file)\n",
    "    \n",
    "    # Проверяем, является ли объект файлом, а не папкой\n",
    "    if os.path.isfile(full_file_path):\n",
    "        try:\n",
    "            shutil.move(full_file_path, data_path)\n",
    "            print(f\"Moved: {file}\")\n",
    "        except Exception as e:\n",
    "            print(f\"Error moving {file}: {e}\")\n",
    "    \n",
    "    if os.path.isdir(full_file_path):\n",
    "        try:\n",
    "            shutil.move(full_file_path, data_path)\n",
    "            print(f\"Moved:{file}\")\n",
    "        except Exception as ec:\n",
    "            print(f\"error mov:{file}: {ec}\")\n"
   ]
  },
  {
   "cell_type": "code",
   "execution_count": 22,
   "metadata": {},
   "outputs": [
    {
     "name": "stdout",
     "output_type": "stream",
     "text": [
      "Files in source folder: ['split_ttv_dataset_type_of_plants']\n"
     ]
    }
   ],
   "source": [
    "print(\"Files in source folder:\", os.listdir(path))\n"
   ]
  }
 ],
 "metadata": {
  "kernelspec": {
   "display_name": "Python 3",
   "language": "python",
   "name": "python3"
  },
  "language_info": {
   "codemirror_mode": {
    "name": "ipython",
    "version": 3
   },
   "file_extension": ".py",
   "mimetype": "text/x-python",
   "name": "python",
   "nbconvert_exporter": "python",
   "pygments_lexer": "ipython3",
   "version": "3.13.1"
  }
 },
 "nbformat": 4,
 "nbformat_minor": 2
}
